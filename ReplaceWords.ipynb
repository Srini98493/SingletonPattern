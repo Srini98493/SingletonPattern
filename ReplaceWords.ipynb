{
  "nbformat": 4,
  "nbformat_minor": 0,
  "metadata": {
    "colab": {
      "provenance": [],
      "authorship_tag": "ABX9TyNDmUjLDvnJ5DyvkmqlEgFF",
      "include_colab_link": true
    },
    "kernelspec": {
      "name": "python3",
      "display_name": "Python 3"
    },
    "language_info": {
      "name": "python"
    }
  },
  "cells": [
    {
      "cell_type": "markdown",
      "metadata": {
        "id": "view-in-github",
        "colab_type": "text"
      },
      "source": [
        "<a href=\"https://colab.research.google.com/github/Srini98493/SingletonPattern/blob/master/ReplaceWords.ipynb\" target=\"_parent\"><img src=\"https://colab.research.google.com/assets/colab-badge.svg\" alt=\"Open In Colab\"/></a>"
      ]
    },
    {
      "cell_type": "code",
      "metadata": {
        "colab": {
          "base_uri": "https://localhost:8080/"
        },
        "id": "CdjynDkGqrE6",
        "outputId": "e26f27f0-f7e4-4827-9d22-031725211c70"
      },
      "source": [
        "dictionary = [\"cat\",\"bat\",\"rat\"]\n",
        "sentence = \"the cattle was rattled by the battery\"\n",
        "\n",
        "# rootset = set(dictionary)\n",
        "# print(rootset)\n",
        "\n",
        "def getR(words):\n",
        "    for i in range(1, len(words)):\n",
        "            if words[:i] in dictionary:\n",
        "                return words[:i]\n",
        "    return words\n",
        "\n",
        "def new_func():\n",
        "    return \" \"\n",
        "\n",
        "print(\" \".join(map(getR, sentence.split())))\n",
        "# print(new_func().join(map(getR, sentence.split())))"
      ],
      "execution_count": null,
      "outputs": [
        {
          "output_type": "stream",
          "name": "stdout",
          "text": [
            "the cat was rat by the bat\n"
          ]
        }
      ]
    },
    {
      "cell_type": "code",
      "source": [
        "from pyspark.sql import SparkSession\n",
        "spark = SparkSession.builder.appName(\"RDD Example\").getOrCreate()\n",
        "rdd = spark.sparkContext.parallelize([1, 2, 3, 4, 5])\n",
        "print(rdd.collect())"
      ],
      "metadata": {
        "colab": {
          "base_uri": "https://localhost:8080/"
        },
        "id": "tYKVm8XtkIfP",
        "outputId": "278e200f-3f66-4ef7-c0ad-a893acaa6b05"
      },
      "execution_count": 1,
      "outputs": [
        {
          "output_type": "stream",
          "name": "stdout",
          "text": [
            "[1, 2, 3, 4, 5]\n"
          ]
        }
      ]
    },
    {
      "cell_type": "markdown",
      "source": [
        "# New Section"
      ],
      "metadata": {
        "id": "s8Ecbnqtkadi"
      }
    }
  ]
}